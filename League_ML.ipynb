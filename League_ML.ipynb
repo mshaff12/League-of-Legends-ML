{
 "cells": [
  {
   "cell_type": "code",
   "execution_count": 1,
   "id": "a9ed53f0",
   "metadata": {},
   "outputs": [],
   "source": [
    "import tensorflow as tf\n",
    "import numpy as np\n",
    "import requests\n",
    "import json"
   ]
  },
  {
   "cell_type": "code",
   "execution_count": 2,
   "id": "d3e5b2cf",
   "metadata": {},
   "outputs": [],
   "source": [
    "# pip install riotwatcher"
   ]
  },
  {
   "cell_type": "code",
   "execution_count": 3,
   "id": "dbb22769",
   "metadata": {},
   "outputs": [],
   "source": [
    "from riotwatcher import LolWatcher, ApiError"
   ]
  },
  {
   "cell_type": "code",
   "execution_count": 4,
   "id": "edabf1ca",
   "metadata": {},
   "outputs": [],
   "source": [
    "lol_watcher = LolWatcher('RGAPI-a414408a-fea4-4a2a-938c-08c8f71c70e0')"
   ]
  },
  {
   "cell_type": "code",
   "execution_count": 5,
   "id": "39e80923",
   "metadata": {},
   "outputs": [],
   "source": [
    "urlStart = 'https://'\n",
    "baseUrl = 'api.riotgames.com'\n",
    "api_key = 'RGAPI-0db1e034-7424-4fd7-a409-ea3f3cf47e27'\n",
    "region = [ \n",
    "      'na1',\n",
    "      'br1',\n",
    "      'eun1',\n",
    "      'euw1',\n",
    "      'jp1',\n",
    "      'kr',\n",
    "      'la1',\n",
    "      'la2',\n",
    "      'oc1',\n",
    "      'ru',\n",
    "      'tr1',\n",
    "    ]\n",
    "queue = [\n",
    "    'RANKED_SOLO_5x5',\n",
    "    'RANKED_TFT',\n",
    "    'RANKED_FLEX_SR',\n",
    "    'RANKED_FLEX_TT'\n",
    "    ]\n",
    "tier = [\n",
    "    'IRON',\n",
    "    'BRONZE',\n",
    "    'SILVER',\n",
    "    'GOLD',\n",
    "    'PLATINUM',\n",
    "    'DIAMOND',\n",
    "    'MASTER',\n",
    "    'GRANDMASTER',\n",
    "    'CHALLENGER'\n",
    "  ]\n",
    "division = [\n",
    "    'IV',\n",
    "    'III',\n",
    "    'II',\n",
    "    'I'\n",
    "  ]\n",
    "page = 10"
   ]
  },
  {
   "cell_type": "code",
   "execution_count": 6,
   "id": "e65d3224",
   "metadata": {},
   "outputs": [],
   "source": [
    "# {urlStart}{region}{baseUrl}/lol/league-exp/v/entries/{queue}/{tier}/{division}?page={page}&api_key={api_key}\n",
    "url = \"{}{}.{}/lol/league-exp/v4/entries/{}/{}/{}?page={}&api_key={}\".format(\n",
    "    urlStart, region[0], baseUrl, queue[0], tier[0], division[0], page, api_key)\n",
    "data = requests.get(url).json()"
   ]
  },
  {
   "cell_type": "code",
   "execution_count": 7,
   "id": "6e23a296",
   "metadata": {},
   "outputs": [],
   "source": [
    "summoner_name = data[0]['summonerName']\n",
    "url2 = \"{}{}.{}/tft/summoner/v1/summoners/by-name/{}?&api_key={}\".format(\n",
    "    urlStart, region[0], baseUrl, summoner_name, api_key)\n",
    "summoner_data = requests.get(url2).json()"
   ]
  },
  {
   "cell_type": "code",
   "execution_count": 8,
   "id": "856724c1",
   "metadata": {},
   "outputs": [],
   "source": [
    "puuid = summoner_data['puuid']\n",
    "url3 = \"{}{}.{}/lol/match/v5/matches/by-puuid/{}/ids?start=0&count=100&api_key={}\".format(\n",
    "    urlStart, 'americas', baseUrl, puuid, api_key)\n",
    "summoner_matches = requests.get(url3).json()"
   ]
  },
  {
   "cell_type": "code",
   "execution_count": 9,
   "id": "986f9c6d",
   "metadata": {},
   "outputs": [],
   "source": [
    "match = summoner_matches[0]\n",
    "url4 = \"{}{}.{}/lol/match/v4/matches/{}?&api_key={}\".format(\n",
    "    urlStart, region[0], baseUrl, match[4:], api_key)\n",
    "match_data = requests.get(url4).json()"
   ]
  }
 ],
 "metadata": {
  "kernelspec": {
   "display_name": "Python 3",
   "language": "python",
   "name": "python3"
  },
  "language_info": {
   "codemirror_mode": {
    "name": "ipython",
    "version": 3
   },
   "file_extension": ".py",
   "mimetype": "text/x-python",
   "name": "python",
   "nbconvert_exporter": "python",
   "pygments_lexer": "ipython3",
   "version": "3.8.8"
  }
 },
 "nbformat": 4,
 "nbformat_minor": 5
}
